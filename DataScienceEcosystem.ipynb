{
 "cells": [
  {
   "cell_type": "markdown",
   "id": "1751e195-7bea-439a-8aa2-1e0291fd653e",
   "metadata": {},
   "source": [
    "# Data Science Tools and Ecosystem"
   ]
  },
  {
   "cell_type": "markdown",
   "id": "50cf0109-c410-4a36-8a6e-98e15bdee449",
   "metadata": {},
   "source": [
    "In this notebook, Data Science Tools and Ecosystem are summarized."
   ]
  },
  {
   "cell_type": "markdown",
   "id": "a5db1661-872b-4ea4-8ca9-68900e5acf68",
   "metadata": {},
   "source": [
    "Some of the popular languages that Data Scientists use are:"
   ]
  },
  {
   "cell_type": "markdown",
   "id": "343e21d6-9109-4651-975d-a1e546356f1c",
   "metadata": {},
   "source": [
    "1. Python\n",
    "2. R\n",
    "3. SQL"
   ]
  },
  {
   "cell_type": "markdown",
   "id": "28560f1a-d041-464c-9db9-172ec0f970b8",
   "metadata": {},
   "source": [
    "Some of the commonly used libraries used by Data Scientists include:"
   ]
  },
  {
   "cell_type": "markdown",
   "id": "ccc03929-4997-4795-83a1-f8ce01d9d78b",
   "metadata": {},
   "source": [
    "1. TensorFlow\n",
    "2. Pandas\n",
    "3. SciKit-Learn"
   ]
  },
  {
   "cell_type": "markdown",
   "id": "9ac0bf10-737d-4281-929e-1a2a4cdd97d1",
   "metadata": {},
   "source": [
    "|Data Science Tools|\n",
    "|------------------|\n",
    "|Apache Spark|\n",
    "|Apache Hadoop|\n",
    "|RSTudio|"
   ]
  },
  {
   "cell_type": "markdown",
   "id": "b886455b-8194-46d9-b84d-4dea578e99ae",
   "metadata": {},
   "source": [
    "### Below are a few examples of evaluating arithmetic expressions in Python"
   ]
  },
  {
   "cell_type": "code",
   "execution_count": null,
   "id": "4979e94b-9d56-4dc8-88f7-e628d5f21f71",
   "metadata": {},
   "outputs": [],
   "source": [
    "# This a simple arithmetic expression to mutiply then add integers"
   ]
  },
  {
   "cell_type": "code",
   "execution_count": 1,
   "id": "8c78a6e5-f84c-47d8-8fc5-ba2f7f1fceb8",
   "metadata": {},
   "outputs": [
    {
     "data": {
      "text/plain": [
       "17"
      ]
     },
     "execution_count": 1,
     "metadata": {},
     "output_type": "execute_result"
    }
   ],
   "source": [
    "(3*4)+5"
   ]
  },
  {
   "cell_type": "code",
   "execution_count": null,
   "id": "5b0cd852-8522-465e-a1ef-2b391b2eeeac",
   "metadata": {},
   "outputs": [],
   "source": [
    "# This will convert 200 minutes to hours by diving by 60."
   ]
  },
  {
   "cell_type": "code",
   "execution_count": 2,
   "id": "9cedc994-1ddc-421b-a118-d43a8906f3d3",
   "metadata": {},
   "outputs": [
    {
     "data": {
      "text/plain": [
       "3.3333333333333335"
      ]
     },
     "execution_count": 2,
     "metadata": {},
     "output_type": "execute_result"
    }
   ],
   "source": [
    "200/60"
   ]
  },
  {
   "cell_type": "markdown",
   "id": "fc372e0c-6d35-4c4a-9b45-9b01da66a4dd",
   "metadata": {},
   "source": [
    "**Objectives:**"
   ]
  },
  {
   "cell_type": "markdown",
   "id": "87c54c19-6fde-4745-b28f-e0493b58a479",
   "metadata": {},
   "source": [
    "- popular languages that Data Scientists use are\n",
    "- libraries used by Data Scientists\n",
    "- Data Science Tools\n",
    "- examples of evaluating arithmetic expressions in Python"
   ]
  },
  {
   "cell_type": "markdown",
   "id": "9284297d-3b25-44ec-8a4f-28e101fd0767",
   "metadata": {},
   "source": [
    "## Author"
   ]
  },
  {
   "cell_type": "markdown",
   "id": "aa8e774a-5369-4764-9a0d-c39802430e74",
   "metadata": {},
   "source": [
    "Wan Muhammad Fahmi bin Wan Abd Ghani"
   ]
  },
  {
   "cell_type": "code",
   "execution_count": null,
   "id": "abcde846-377e-4a6e-ab74-ce193fef9b32",
   "metadata": {},
   "outputs": [],
   "source": []
  }
 ],
 "metadata": {
  "kernelspec": {
   "display_name": "Python",
   "language": "python",
   "name": "conda-env-python-py"
  },
  "language_info": {
   "codemirror_mode": {
    "name": "ipython",
    "version": 3
   },
   "file_extension": ".py",
   "mimetype": "text/x-python",
   "name": "python",
   "nbconvert_exporter": "python",
   "pygments_lexer": "ipython3",
   "version": "3.7.12"
  }
 },
 "nbformat": 4,
 "nbformat_minor": 5
}
